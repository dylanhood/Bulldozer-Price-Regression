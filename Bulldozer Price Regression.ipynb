{
 "cells": [
  {
   "cell_type": "markdown",
   "id": "19c7bbb0",
   "metadata": {},
   "source": [
    "## Predicting the Sale Price of Bulldozers using Machine Learning\n",
    "\n",
    "This notebook will go thorugh an example machine learning porject with the goal of predicting the sale price of bulldozers."
   ]
  },
  {
   "cell_type": "markdown",
   "id": "d27ed5e8",
   "metadata": {},
   "source": [
    "## 1. Problem definition\n",
    "\n",
    "How well can the future sale price of bulldozers be predicted, given its characteristics and"
   ]
  },
  {
   "cell_type": "code",
   "execution_count": null,
   "id": "9cfaea9d",
   "metadata": {},
   "outputs": [],
   "source": []
  }
 ],
 "metadata": {
  "kernelspec": {
   "display_name": "Python 3 (ipykernel)",
   "language": "python",
   "name": "python3"
  },
  "language_info": {
   "codemirror_mode": {
    "name": "ipython",
    "version": 3
   },
   "file_extension": ".py",
   "mimetype": "text/x-python",
   "name": "python",
   "nbconvert_exporter": "python",
   "pygments_lexer": "ipython3",
   "version": "3.9.12"
  }
 },
 "nbformat": 4,
 "nbformat_minor": 5
}
